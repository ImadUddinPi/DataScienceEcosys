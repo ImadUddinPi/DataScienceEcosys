{
 "cells": [
  {
   "attachments": {},
   "cell_type": "markdown",
   "metadata": {},
   "source": [
    "<h2>Data Science Tools And Ecosystem</h2>"
   ]
  },
  {
   "attachments": {},
   "cell_type": "markdown",
   "metadata": {},
   "source": [
    "In this notebook, we take a look at the various tools and techniques used in data science, and how they are combined for effective applications"
   ]
  },
  {
   "attachments": {},
   "cell_type": "markdown",
   "metadata": {},
   "source": [
    "**Objectives:**\n",
    "\n",
    "- List popular languages for Data Science\n",
    "- Introduce common data science libraries\n",
    "- Demonstrate arithmetic expression examples\n",
    "- Convert minutes to hours using Python code\n",
    "- Explore key takeaways from the course\n"
   ]
  },
  {
   "attachments": {},
   "cell_type": "markdown",
   "metadata": {},
   "source": [
    "Some of the popular languages used for data science are: <br>\n",
    "1- Python <br>\n",
    "2- R <br>\n",
    "3- Julia <br>\n",
    "4- Mojo <br>"
   ]
  },
  {
   "attachments": {},
   "cell_type": "markdown",
   "metadata": {},
   "source": [
    "Some of the commonly used libraries are: <br>\n",
    "NumPy<br>\n",
    "Pandas<br>\n",
    "Matplotlib<br>\n",
    "Seaborn<br>\n",
    "Scikit-learn<br>\n",
    "TensorFlow<br>\n",
    "Keras<br>\n",
    "PyTorch<br>\n",
    "Statsmodels<br>\n",
    "SciPy<br>\n",
    "XGBoost<br>\n",
    "LightGBM<br>\n",
    "Dask<br>"
   ]
  },
  {
   "attachments": {},
   "cell_type": "markdown",
   "metadata": {},
   "source": [
    "Given below is the table, where various environments that are open source are listed:\n",
    "|   Data Science Tools   |\n",
    "|-----------------------|\n",
    "|   Jupyter Notebook    |\n",
    "|     RStudio           |\n",
    "|   Visual Studio Code  |\n"
   ]
  },
  {
   "attachments": {},
   "cell_type": "markdown",
   "metadata": {},
   "source": [
    "### Below are a few examples of evaluating arithmetic expressions in Python\n",
    "\n",
    "Arithmetic expressions are commonly used in programming to perform mathematical operations. Python provides a simple and powerful syntax for evaluating these expressions. Here are a few examples:\n",
    "\n",
    "1. Addition:\n",
    "   ```python\n",
    "   result = 2 + 3\n",
    "   print(result)  # Output: 5\n",
    "In the following cell we proceed with multiplication and addition"
   ]
  },
  {
   "cell_type": "code",
   "execution_count": 2,
   "metadata": {},
   "outputs": [
    {
     "data": {
      "text/plain": [
       "17"
      ]
     },
     "execution_count": 2,
     "metadata": {},
     "output_type": "execute_result"
    }
   ],
   "source": [
    "#This is a multiplication performing expression, followed by addition governed by operator precedence.\n",
    "(3*4)+5"
   ]
  },
  {
   "cell_type": "code",
   "execution_count": 3,
   "metadata": {},
   "outputs": [
    {
     "data": {
      "text/plain": [
       "3.3333333333333335"
      ]
     },
     "execution_count": 3,
     "metadata": {},
     "output_type": "execute_result"
    }
   ],
   "source": [
    "# This will convert 200 minutes to hours by dividing by 60\n",
    "minutes = 200\n",
    "hours = minutes / 60\n",
    "hours\n"
   ]
  },
  {
   "attachments": {},
   "cell_type": "markdown",
   "metadata": {},
   "source": [
    "## Author\n",
    "\n",
    "Imad Uddin\n"
   ]
  }
 ],
 "metadata": {
  "kernelspec": {
   "display_name": "Python 3",
   "language": "python",
   "name": "python3"
  },
  "language_info": {
   "codemirror_mode": {
    "name": "ipython",
    "version": 3
   },
   "file_extension": ".py",
   "mimetype": "text/x-python",
   "name": "python",
   "nbconvert_exporter": "python",
   "pygments_lexer": "ipython3",
   "version": "3.11.4"
  },
  "orig_nbformat": 4
 },
 "nbformat": 4,
 "nbformat_minor": 2
}
